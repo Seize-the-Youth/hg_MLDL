{
  "cells": [
    {
      "cell_type": "markdown",
      "metadata": {
        "id": "view-in-github",
        "colab_type": "text"
      },
      "source": [
        "<a href=\"https://colab.research.google.com/github/Seize-the-Youth/hg_MLDL/blob/main/1.%203.%20%EB%A7%88%EC%BC%93%EA%B3%BC%20%EB%A8%B8%EC%8B%A0%EB%9F%AC%EB%8B%9D.ipynb\" target=\"_parent\"><img src=\"https://colab.research.google.com/assets/colab-badge.svg\" alt=\"Open In Colab\"/></a>"
      ]
    },
    {
      "cell_type": "markdown",
      "metadata": {
        "id": "BU1xKbhfW7F3"
      },
      "source": [
        "# ***마켓과 머신러닝***"
      ]
    },
    {
      "cell_type": "markdown",
      "metadata": {
        "id": "ph98F4YaW7F9"
      },
      "source": [
        "## 생선 분류 문제\n",
        "\n",
        "도미와 빙어의 이진 분류 수행 (binary classification)"
      ]
    },
    {
      "cell_type": "markdown",
      "metadata": {
        "id": "8pic695FW7F-"
      },
      "source": [
        "### 도미 데이터 준비하기\n",
        "\n",
        "도미의 길이와 무게를 파이썬 리스트로 만든다.\n",
        "길이와 무게 같은 특징을 특성(feature)이라 칭한다. "
      ]
    },
    {
      "cell_type": "code",
      "execution_count": null,
      "metadata": {
        "id": "AhUYjyga-mAw"
      },
      "outputs": [],
      "source": [
        "# 도미의 길이\n",
        "bream_length = [25.4, 26.3, 26.5, 29.0, 29.0, 29.7, 29.7, 30.0, 30.0, 30.7, 31.0, 31.0, 31.5, 32.0, 32.0, 32.0, 33.0, 33.0, 33.5, 33.5, 34.0, 34.0, 34.5, 35.0, 35.0, 35.0, 35.0, 36.0, 36.0, 37.0, 38.5, 38.5, 39.5, 41.0, 41.0]\n",
        "\n",
        "# 도미의 무게\n",
        "bream_weight = [242.0, 290.0, 340.0, 363.0, 430.0, 450.0, 500.0, 390.0, 450.0, 500.0, 475.0, 500.0, 500.0, 340.0, 600.0, 600.0, 700.0, 700.0, 610.0, 650.0, 575.0, 685.0, 620.0, 680.0, 700.0, 725.0, 720.0, 714.0, 850.0, 1000.0, 920.0, 955.0, 925.0, 975.0, 950.0]"
      ]
    },
    {
      "cell_type": "code",
      "execution_count": null,
      "metadata": {
        "colab": {
          "base_uri": "https://localhost:8080/",
          "height": 278
        },
        "id": "mSj-Xx1gENO_",
        "outputId": "7ced243b-2987-407c-b37c-916d592adb5a"
      },
      "outputs": [
        {
          "output_type": "display_data",
          "data": {
            "text/plain": [
              "<Figure size 432x288 with 1 Axes>"
            ],
            "image/png": "[encoded data removed]"
          },
          "metadata": {
            "needs_background": "light"
          }
        }
      ],
      "source": [
        "# 패키지 임포트\n",
        "# matplotlib의 pyplot 함수를 plt로 줄여서 사용\n",
        "import matplotlib.pyplot as plt\n",
        "\n",
        "# 산점도 그리기\n",
        "plt.scatter(bream_length, bream_weight)\n",
        "plt.xlabel('length')  # x 축은 길이\n",
        "plt.ylabel('weight')  # y 축은 무게\n",
        "plt.show() # 화면에 그래프 출력"
      ]
    },
    {
      "cell_type": "markdown",
      "metadata": {
        "id": "SEDR2ZiTW7GC"
      },
      "source": [
        "### 빙어 데이터 준비하기\n",
        "\n",
        "도미 데이터와 같은 방식으로 빙어 데이터를 준비한다. (14마리)"
      ]
    },
    {
      "cell_type": "code",
      "execution_count": null,
      "metadata": {
        "id": "Hj_L_F9RH5B0"
      },
      "outputs": [],
      "source": [
        "# 빙어의 길이\n",
        "smelt_length = [9.8, 10.5, 10.6, 11.0, 11.2, 11.3, 11.8, 11.8, 12.0, 12.2, 12.4, 13.0, 14.3, 15.0]\n",
        "\n",
        "# 빙어의 무게\n",
        "smelt_weight = [6.7, 7.5, 7.0, 9.7, 9.8, 8.7, 10.0, 9.9, 9.8, 12.2, 13.4, 12.2, 19.7, 19.9]"
      ]
    },
    {
      "cell_type": "code",
      "execution_count": null,
      "metadata": {
        "colab": {
          "base_uri": "https://localhost:8080/",
          "height": 278
        },
        "id": "z0ywO_s4S98S",
        "outputId": "a52b6396-be90-4c8f-aa15-65b49c846ec9"
      },
      "outputs": [
        {
          "output_type": "display_data",
          "data": {
            "text/plain": [
              "<Figure size 432x288 with 1 Axes>"
            ],
            "image/png": "[encoded data removed]"
          },
          "metadata": {
            "needs_background": "light"
          }
        }
      ],
      "source": [
        "# 2개의 산점도를 한 그래프로 그리기\n",
        "plt.scatter(bream_length, bream_weight) # 도미 - 파란 점\n",
        "plt.scatter(smelt_length, smelt_weight) # 빙어 - 주황 점\n",
        "\n",
        "plt.xlabel('length')\n",
        "plt.ylabel('weight')\n",
        "plt.show()"
      ]
    },
    {
      "cell_type": "markdown",
      "metadata": {
        "id": "xqdzYgPbW7GF"
      },
      "source": [
        "## 첫 번째 머신러닝 프로그램"
      ]
    },
    {
      "cell_type": "code",
      "execution_count": null,
      "metadata": {
        "id": "djyDIbjmTDag"
      },
      "outputs": [],
      "source": [
        "# 도미와 빙어 데이터를 하나의 리스트로 만들기\n",
        "length = bream_length + smelt_length\n",
        "weight = bream_weight + smelt_weight"
      ]
    },
    {
      "cell_type": "code",
      "execution_count": null,
      "metadata": {
        "colab": {
          "base_uri": "https://localhost:8080/"
        },
        "id": "zMNfgqb62z7W",
        "outputId": "78722408-fac6-43bf-d131-c2e365fbd38a"
      },
      "outputs": [
        {
          "output_type": "stream",
          "name": "stdout",
          "text": [
            "[[25.4, 242.0], [26.3, 290.0], [26.5, 340.0], [29.0, 363.0], [29.0, 430.0], [29.7, 450.0], [29.7, 500.0], [30.0, 390.0], [30.0, 450.0], [30.7, 500.0], [31.0, 475.0], [31.0, 500.0], [31.5, 500.0], [32.0, 340.0], [32.0, 600.0], [32.0, 600.0], [33.0, 700.0], [33.0, 700.0], [33.5, 610.0], [33.5, 650.0], [34.0, 575.0], [34.0, 685.0], [34.5, 620.0], [35.0, 680.0], [35.0, 700.0], [35.0, 725.0], [35.0, 720.0], [36.0, 714.0], [36.0, 850.0], [37.0, 1000.0], [38.5, 920.0], [38.5, 955.0], [39.5, 925.0], [41.0, 975.0], [41.0, 950.0], [9.8, 6.7], [10.5, 7.5], [10.6, 7.0], [11.0, 9.7], [11.2, 9.8], [11.3, 8.7], [11.8, 10.0], [11.8, 9.9], [12.0, 9.8], [12.2, 12.2], [12.4, 13.4], [13.0, 12.2], [14.3, 19.7], [15.0, 19.9]]\n"
          ]
        }
      ],
      "source": [
        "# 파이썬의 zip() 함수와 리스트 내포(list comprehension) 구문을 사용\n",
        "# 각 특성의 리스트를 세로 방향으로 늘어뜨린 2차원 리스트 만들기\n",
        "fish_data = [[l, w] for l, w in zip(length, weight)]\n",
        "\n",
        "# 리스트 출력 후 확인\n",
        "print(fish_data)"
      ]
    },
    {
      "cell_type": "code",
      "execution_count": null,
      "metadata": {
        "colab": {
          "base_uri": "https://localhost:8080/"
        },
        "id": "tSSIOoXz3Nm9",
        "outputId": "31f8ce21-91b5-430f-a679-7575bf326575"
      },
      "outputs": [
        {
          "output_type": "stream",
          "name": "stdout",
          "text": [
            "[1, 1, 1, 1, 1, 1, 1, 1, 1, 1, 1, 1, 1, 1, 1, 1, 1, 1, 1, 1, 1, 1, 1, 1, 1, 1, 1, 1, 1, 1, 1, 1, 1, 1, 1, 0, 0, 0, 0, 0, 0, 0, 0, 0, 0, 0, 0, 0, 0]\n"
          ]
        }
      ],
      "source": [
        "# 도미 (찾으려는 대상, 1) / 빙어 (0)\n",
        "fish_target = [1]*35 + [0]*14\n",
        "print(fish_target)"
      ]
    },
    {
      "cell_type": "code",
      "execution_count": null,
      "metadata": {
        "id": "MU_19M2Elp65"
      },
      "outputs": [],
      "source": [
        "# k-최근접 이웃 알고리즘을 구현한 KNeighborsClassifier 클래스 임포트\n",
        "\n",
        "from sklearn.neighbors import KNeighborsClassifier"
      ]
    },
    {
      "cell_type": "code",
      "execution_count": null,
      "metadata": {
        "id": "PCYut6Q2lpgQ"
      },
      "outputs": [],
      "source": [
        "# 클래스 객체 만들기\n",
        "# kn 을 '객체' 또는 '머신러닝 모델'이라 부름\n",
        "\n",
        "kn = KNeighborsClassifier()"
      ]
    },
    {
      "cell_type": "code",
      "execution_count": null,
      "metadata": {
        "id": "s1Ip0gXK35SK",
        "outputId": "971255ce-2334-49c2-9ef0-872cc0e97dd2",
        "colab": {
          "base_uri": "https://localhost:8080/"
        }
      },
      "outputs": [
        {
          "output_type": "execute_result",
          "data": {
            "text/plain": [
              "KNeighborsClassifier()"
            ]
          },
          "metadata": {},
          "execution_count": 10
        }
      ],
      "source": [
        "# 객체에 fish_data 와 fish_target 을 전달하여 학습 (훈련)\n",
        "\n",
        "kn.fit(fish_data, fish_target)"
      ]
    },
    {
      "cell_type": "code",
      "execution_count": null,
      "metadata": {
        "colab": {
          "base_uri": "https://localhost:8080/"
        },
        "id": "_Nqdxnci3-yw",
        "outputId": "49a725db-3e38-4354-c7f5-7c48f928a656"
      },
      "outputs": [
        {
          "output_type": "execute_result",
          "data": {
            "text/plain": [
              "1.0"
            ]
          },
          "metadata": {},
          "execution_count": 11
        }
      ],
      "source": [
        "# 객체 평가\n",
        "\n",
        "kn.score(fish_data, fish_target)"
      ]
    },
    {
      "cell_type": "markdown",
      "metadata": {
        "id": "9b5f91d1W7GK"
      },
      "source": [
        "### k-최근접 이웃 알고리즘\n",
        "\n",
        "다섯 개의 주변 샘플을 보고 그 주변 샘플의 class 중 가장 많은 클래스를 정답으로 삼는다. (단순하다)"
      ]
    },
    {
      "cell_type": "code",
      "execution_count": null,
      "metadata": {
        "colab": {
          "base_uri": "https://localhost:8080/",
          "height": 278
        },
        "id": "mVZ6Ikqj4D7q",
        "outputId": "abce14f7-61f5-46a5-dbb1-9bae4b2046ec"
      },
      "outputs": [
        {
          "output_type": "display_data",
          "data": {
            "text/plain": [
              "<Figure size 432x288 with 1 Axes>"
            ],
            "image/png": "[encoded data removed]"
          },
          "metadata": {
            "needs_background": "light"
          }
        }
      ],
      "source": [
        "# kn 모델을 새로운 데이터에 적용\n",
        "# 길이가 30이고 무게가 600인 친구. 도미겠지?\n",
        "\n",
        "plt.scatter(bream_length, bream_weight, color='g')\n",
        "plt.scatter(smelt_length, smelt_weight)\n",
        "\n",
        "plt.scatter(30, 600, marker='^')\n",
        "\n",
        "plt.xlabel('length')\n",
        "plt.ylabel('weight')\n",
        "\n",
        "plt.show()"
      ]
    },
    {
      "cell_type": "code",
      "execution_count": null,
      "metadata": {
        "colab": {
          "base_uri": "https://localhost:8080/"
        },
        "id": "7WL14YIlr86-",
        "outputId": "a31691de-2bbc-4444-901b-cb9f40b43f3e"
      },
      "outputs": [
        {
          "output_type": "execute_result",
          "data": {
            "text/plain": [
              "array([1])"
            ]
          },
          "metadata": {},
          "execution_count": 13
        }
      ],
      "source": [
        "# predict method 로 예측. 샘플 데이터를 2차원 배열 형태로 전달\n",
        "\n",
        "kn.predict([[30, 600]])"
      ]
    },
    {
      "cell_type": "code",
      "execution_count": null,
      "metadata": {
        "colab": {
          "base_uri": "https://localhost:8080/"
        },
        "id": "6WJ_METitoY1",
        "outputId": "2e9cb774-bcb2-413d-d0bb-e2fc38ec1cd1"
      },
      "outputs": [
        {
          "output_type": "stream",
          "name": "stdout",
          "text": [
            "[[  25.4  242. ]\n",
            " [  26.3  290. ]\n",
            " [  26.5  340. ]\n",
            " [  29.   363. ]\n",
            " [  29.   430. ]\n",
            " [  29.7  450. ]\n",
            " [  29.7  500. ]\n",
            " [  30.   390. ]\n",
            " [  30.   450. ]\n",
            " [  30.7  500. ]\n",
            " [  31.   475. ]\n",
            " [  31.   500. ]\n",
            " [  31.5  500. ]\n",
            " [  32.   340. ]\n",
            " [  32.   600. ]\n",
            " [  32.   600. ]\n",
            " [  33.   700. ]\n",
            " [  33.   700. ]\n",
            " [  33.5  610. ]\n",
            " [  33.5  650. ]\n",
            " [  34.   575. ]\n",
            " [  34.   685. ]\n",
            " [  34.5  620. ]\n",
            " [  35.   680. ]\n",
            " [  35.   700. ]\n",
            " [  35.   725. ]\n",
            " [  35.   720. ]\n",
            " [  36.   714. ]\n",
            " [  36.   850. ]\n",
            " [  37.  1000. ]\n",
            " [  38.5  920. ]\n",
            " [  38.5  955. ]\n",
            " [  39.5  925. ]\n",
            " [  41.   975. ]\n",
            " [  41.   950. ]\n",
            " [   9.8    6.7]\n",
            " [  10.5    7.5]\n",
            " [  10.6    7. ]\n",
            " [  11.     9.7]\n",
            " [  11.2    9.8]\n",
            " [  11.3    8.7]\n",
            " [  11.8   10. ]\n",
            " [  11.8    9.9]\n",
            " [  12.     9.8]\n",
            " [  12.2   12.2]\n",
            " [  12.4   13.4]\n",
            " [  13.    12.2]\n",
            " [  14.3   19.7]\n",
            " [  15.    19.9]]\n"
          ]
        }
      ],
      "source": [
        "# _fix_X 의 속성에 fish_data 를 모두 가지고 있음.\n",
        "\n",
        "print(kn._fit_X)"
      ]
    },
    {
      "cell_type": "code",
      "execution_count": null,
      "metadata": {
        "colab": {
          "base_uri": "https://localhost:8080/"
        },
        "id": "OhERu04-u_Mx",
        "outputId": "d36719e4-405b-4b19-a21a-9dc51f00a7ce"
      },
      "outputs": [
        {
          "output_type": "stream",
          "name": "stdout",
          "text": [
            "[1 1 1 1 1 1 1 1 1 1 1 1 1 1 1 1 1 1 1 1 1 1 1 1 1 1 1 1 1 1 1 1 1 1 1 0 0\n",
            " 0 0 0 0 0 0 0 0 0 0 0 0]\n"
          ]
        }
      ],
      "source": [
        "# _y 의 속성에 fish_target 을 모두 가지고 있음.\n",
        "\n",
        "print(kn._y)"
      ]
    },
    {
      "cell_type": "code",
      "execution_count": null,
      "metadata": {
        "id": "scTxBP0ZvOs0"
      },
      "outputs": [],
      "source": [
        "# kn49 객체 만들기 (참고 데이터를 49개로 한 모델)\n",
        "\n",
        "kn49 = KNeighborsClassifier(n_neighbors=49)"
      ]
    },
    {
      "cell_type": "code",
      "execution_count": null,
      "metadata": {
        "colab": {
          "base_uri": "https://localhost:8080/"
        },
        "id": "gErf9HtixCQw",
        "outputId": "f8c83eb5-4cc0-4b8a-f571-241a3d36bed2"
      },
      "outputs": [
        {
          "output_type": "execute_result",
          "data": {
            "text/plain": [
              "0.7142857142857143"
            ]
          },
          "metadata": {},
          "execution_count": 17
        }
      ],
      "source": [
        "# 전체 샘플의 다수가 도미이기 때문에 어떤 데이터를 넣어도 도미로 예측할 것이다.\n",
        "\n",
        "kn49.fit(fish_data, fish_target)\n",
        "kn49.score(fish_data, fish_target)"
      ]
    },
    {
      "cell_type": "code",
      "execution_count": null,
      "metadata": {
        "colab": {
          "base_uri": "https://localhost:8080/"
        },
        "id": "EGEvjYGrxGfF",
        "outputId": "fb30ba45-183f-476d-a4b8-edc21b66d92a"
      },
      "outputs": [
        {
          "output_type": "stream",
          "name": "stdout",
          "text": [
            "0.7142857142857143\n"
          ]
        }
      ],
      "source": [
        "# 49개 중에 35개가 도미. 정확도를 계산하면 score() 메서드와 값이 같다.\n",
        "\n",
        "print(35/49)"
      ]
    },
    {
      "cell_type": "markdown",
      "metadata": {
        "id": "Mfasb9WsRoQV"
      },
      "source": [
        "### 확인 문제"
      ]
    },
    {
      "cell_type": "code",
      "execution_count": null,
      "metadata": {
        "colab": {
          "base_uri": "https://localhost:8080/"
        },
        "id": "3pQ2JVooP-y5",
        "outputId": "5cd9e22f-3301-49a9-8e70-5badcbcb5fe2"
      },
      "outputs": [
        {
          "output_type": "stream",
          "name": "stdout",
          "text": [
            "18 0.9795918367346939\n"
          ]
        }
      ],
      "source": [
        "kn = KNeighborsClassifier()\n",
        "kn.fit(fish_data, fish_target)\n",
        "\n",
        "for n in range(5, 50):\n",
        "    # 최근접 이웃 개수 설정\n",
        "    kn.n_neighbors = n\n",
        "    # 점수 계산\n",
        "    score = kn.score(fish_data, fish_target)\n",
        "    # 100% 정확도에 미치지 못하는 이웃 개수 출력\n",
        "    if score < 1:\n",
        "        print(n, score)\n",
        "        break"
      ]
    }
  ],
  "metadata": {
    "colab": {
      "collapsed_sections": [],
      "name": "1.3. 마켓과 머신러닝.ipynb",
      "provenance": [],
      "toc_visible": true,
      "include_colab_link": true
    },
    "kernelspec": {
      "display_name": "Python 3 (ipykernel)",
      "language": "python",
      "name": "python3"
    },
    "language_info": {
      "codemirror_mode": {
        "name": "ipython",
        "version": 3
      },
      "file_extension": ".py",
      "mimetype": "text/x-python",
      "name": "python",
      "nbconvert_exporter": "python",
      "pygments_lexer": "ipython3",
      "version": "3.9.7"
    }
  },
  "nbformat": 4,
  "nbformat_minor": 0
}